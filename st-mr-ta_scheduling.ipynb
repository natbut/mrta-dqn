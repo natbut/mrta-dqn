{
 "cells": [
  {
   "cell_type": "markdown",
   "metadata": {},
   "source": [
    "### Problem Description\n",
    "\n",
    "We are solving a MRTA problem with single-task robots, multi-robot tasks, and time-extend task allocation. We assume the following constants:\n",
    "- 5 robots (homogeneous efficiency toward tasks, travel at same constant velocity)\n",
    "- 10 tasks (\"rigid\" tasks - require a predetermined number of robots to arrive before work towards completion begins)\n",
    "    - tasks are initialized in random positions\n",
    "\n",
    "Some assumptions/constraints (continue to add):\n",
    "- Once a robot starts on a task (begins to move along edge toward task), it cannot change from this assingment until the task has been completed\n",
    "- With this, once enough robots have arrive at a task for work to begin, work is not interrupted until the task is complete"
   ]
  },
  {
   "cell_type": "code",
   "execution_count": 1,
   "metadata": {},
   "outputs": [],
   "source": [
    "# Imports\n",
    "\n",
    "import numpy as np"
   ]
  },
  {
   "cell_type": "code",
   "execution_count": 4,
   "metadata": {},
   "outputs": [],
   "source": [
    "# PROBLEM/DATA SETUP\n",
    "\n",
    "# Problem Characteristics\n",
    "NUM_AGENTS = 5\n",
    "NUM_TASKS = 10\n",
    "\n",
    "# == Environment Constants ==\n",
    "# tasks requirements: [# robots required, time required for each task]\n",
    "task_reqts = [[2,10],\n",
    "              [1,5],\n",
    "              [4,15],\n",
    "              [2,5],\n",
    "              [3,10],\n",
    "              [2,10],\n",
    "              [4,20],\n",
    "              [3,15],\n",
    "              [1,10],\n",
    "              [3,10]]\n",
    "\n",
    "task_locs = [(1,5),\n",
    "             (10,10),\n",
    "             (3,4),\n",
    "             (9,2),\n",
    "             (2,7),\n",
    "             (6,4),\n",
    "             (4,5),\n",
    "             (3,8),\n",
    "             (7,4),\n",
    "             (2,2)]\n",
    "\n",
    "# travel times 2D array - task to task\n",
    "travel_times = []\n",
    "# TODO: fill array (I'm lazy)\n",
    "\n",
    "\n",
    "# == Environment Variables ==\n",
    "# time remaining for each agent to complete current task\n",
    "agents_time_remaining_taskComplete = np.zeros(NUM_AGENTS)\n",
    "\n",
    "# time remaining for each agent to reach target task\n",
    "agents_time_remaining_taskReach = np.zeros(NUM_AGENTS)\n",
    "# TODO - do we need both?\n",
    "\n",
    "# cumulative idle time for each agent\n",
    "agents_cum_idle_time = np.zeros(NUM_AGENTS)\n",
    "\n",
    "# task completion status - 1/0\n",
    "task_completion_status = np.zeros(NUM_TASKS)\n",
    "\n",
    "# == Decision Variables ==\n",
    "# agent task assignments - 1 if agent is approaching/working/idle at task\n",
    "agent_task_assignments = np.zeros((NUM_AGENTS, NUM_TASKS))\n",
    "\n",
    "# nature of agent assignments (approaching 1/0, working 1/0, or idle 1/0)\n",
    "agent_assignment_type = np.zeros((NUM_AGENTS, 3))\n"
   ]
  },
  {
   "cell_type": "markdown",
   "metadata": {},
   "source": [
    "Define Learner"
   ]
  },
  {
   "cell_type": "code",
   "execution_count": 5,
   "metadata": {},
   "outputs": [],
   "source": [
    "# == RL =="
   ]
  },
  {
   "cell_type": "markdown",
   "metadata": {},
   "source": [
    "Prepare Training"
   ]
  },
  {
   "cell_type": "code",
   "execution_count": null,
   "metadata": {},
   "outputs": [],
   "source": [
    "# == Actions ==\n",
    "\n",
    "\n",
    "# == Rewards ==\n",
    "\n",
    "# == State, sort of =="
   ]
  },
  {
   "cell_type": "markdown",
   "metadata": {},
   "source": [
    "Do Training"
   ]
  },
  {
   "cell_type": "code",
   "execution_count": null,
   "metadata": {},
   "outputs": [],
   "source": []
  },
  {
   "cell_type": "markdown",
   "metadata": {},
   "source": [
    "Evaluation"
   ]
  },
  {
   "cell_type": "code",
   "execution_count": null,
   "metadata": {},
   "outputs": [],
   "source": []
  }
 ],
 "metadata": {
  "kernelspec": {
   "display_name": "base",
   "language": "python",
   "name": "python3"
  },
  "language_info": {
   "codemirror_mode": {
    "name": "ipython",
    "version": 3
   },
   "file_extension": ".py",
   "mimetype": "text/x-python",
   "name": "python",
   "nbconvert_exporter": "python",
   "pygments_lexer": "ipython3",
   "version": "3.11.4"
  }
 },
 "nbformat": 4,
 "nbformat_minor": 2
}
